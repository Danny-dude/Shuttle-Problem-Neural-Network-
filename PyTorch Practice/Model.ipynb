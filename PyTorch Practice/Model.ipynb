{
 "cells": [
  {
   "attachments": {},
   "cell_type": "markdown",
   "metadata": {},
   "source": [
    "### $\\text{\\underline{Libraries and Global Constants}}$"
   ]
  },
  {
   "cell_type": "code",
   "execution_count": 67,
   "metadata": {},
   "outputs": [],
   "source": [
    "import numpy as np\n",
    "import torch as t\n",
    "import matplotlib.pyplot as plt\n",
    "device = t.device(\"cpu\")\n",
    "num_x = 36\n",
    "acc_list = []\n",
    "font = {'fontname':'AppleGothic'}"
   ]
  },
  {
   "attachments": {},
   "cell_type": "markdown",
   "metadata": {},
   "source": [
    "### $\\underline{\\text{Dataset Storage Class}}$"
   ]
  },
  {
   "cell_type": "code",
   "execution_count": 68,
   "metadata": {},
   "outputs": [],
   "source": [
    "class Dataset(t.utils.data.Dataset):\n",
    "\n",
    "    def __init__(self,src_file,num_rows,skip):\n",
    "        # Load data\n",
    "        x_temp = np.loadtxt(src_file,max_rows=num_rows,skiprows=skip,usecols=range(0,num_x),delimiter=',',dtype=np.float32)\n",
    "        y_storage = np.loadtxt(src_file,max_rows=num_rows,skiprows=skip,usecols=num_x,delimiter=',',dtype=str)\n",
    "        y_temp = np.zeros_like(y_storage,dtype=np.float32)\n",
    "        # Convert string attribute to numerical value\n",
    "        y_temp[y_storage == r\"'Anomaly'\"] = 1\n",
    "        self.x_data = t.tensor(x_temp).to(device)\n",
    "        self.x_data = self.x_data.float()\n",
    "        self.y_data = t.tensor(y_temp).to(device)\n",
    "        self.y_data = self.y_data.long()\n",
    "        # Shuffle the tensors\n",
    "        self.x_data = self.x_data[t.randperm(self.x_data.size()[0])]\n",
    "        self.y_data = self.y_data[t.randperm(self.y_data.size()[0])]\n",
    "\n",
    "    def __len__(self):\n",
    "        return len(self.x_data)\n",
    "    \n",
    "    def __getitem__(self,index):\n",
    "        if t.is_tensor(index):\n",
    "            index = index.tolist()\n",
    "        preds = self.x_data[index,0:num_x]\n",
    "        result = self.y_data[index]\n",
    "        sample = {'Predictors':preds,'Anomalous':result}\n",
    "        return sample\n"
   ]
  },
  {
   "attachments": {},
   "cell_type": "markdown",
   "metadata": {},
   "source": [
    "### $ \\underline{\\text{The Model}}$"
   ]
  },
  {
   "cell_type": "code",
   "execution_count": 72,
   "metadata": {},
   "outputs": [
    {
     "name": "stdout",
     "output_type": "stream",
     "text": [
      "Training the model\n",
      "Epoch:  99  Loss:  0.4053235352039337  Accuracy:  0.9868258833885193\n",
      "Epoch:  199  Loss:  0.08155082911252975  Accuracy:  0.98517906665802\n",
      "Epoch:  299  Loss:  0.07463785260915756  Accuracy:  0.9868258833885193\n",
      "Epoch:  399  Loss:  0.0723273828625679  Accuracy:  0.9868258833885193\n",
      "Epoch:  499  Loss:  0.07152177393436432  Accuracy:  0.9868258833885193\n",
      "Epoch:  599  Loss:  0.07110683619976044  Accuracy:  0.9868258833885193\n",
      "Epoch:  699  Loss:  0.07082241028547287  Accuracy:  0.9868258833885193\n",
      "Epoch:  799  Loss:  0.07059502601623535  Accuracy:  0.9868258833885193\n",
      "Epoch:  899  Loss:  0.07039997726678848  Accuracy:  0.9868258833885193\n",
      "Epoch:  999  Loss:  0.07022737711668015  Accuracy:  0.9868258833885193\n",
      "Testing the model\n",
      "Loss: 0.22233547270298004 Accuracy: 0.949999988079071\n"
     ]
    }
   ],
   "source": [
    "# Create training dataset instance, skips the first 39 rows as they are not part of the dataset\n",
    "train_ds = Dataset(\"data.txt\",num_rows=4897,skip=39)\n",
    "# Define sequential model architecture\n",
    "model = t.nn.Sequential(\n",
    "    t.nn.Linear(36,26),        # 26 hidden neurons\n",
    "    t.nn.ReLU(),\n",
    "    t.nn.Linear(26,2)\n",
    ")\n",
    "# Define loss function\n",
    "loss_func = t.nn.CrossEntropyLoss()\n",
    "# Define optimizer\n",
    "optimizer = t.optim.Adam(model.parameters(),lr=0.01,weight_decay=1e-6)\n",
    "# Training model\n",
    "print(\"Training the model\")\n",
    "for epoch in range(1000):\n",
    "    # Feed the model the dataset\n",
    "    mod_output = model(train_ds.x_data)\n",
    "    # Obtain a tensor (maxes) with only the most likely classificiations\n",
    "    maxes = mod_output.max(dim=1)[1]\n",
    "    # Use maxes tensor to count number of equal values between our model output and the target tensor\n",
    "    acc = t.sum((maxes==train_ds.y_data))/len(train_ds.y_data)\n",
    "    # Store accuracy over all epochs for plotting\n",
    "    acc_list.append(acc.item())\n",
    "    # Calculate the loss\n",
    "    loss = loss_func(mod_output,train_ds.y_data)\n",
    "    if epoch % 100 == 99:\n",
    "        print(\"Epoch: \",epoch,\" Loss: \",loss.item(),\" Accuracy: \",acc.item())\n",
    "    # Sets the gradients of all optimized tensors s to zero\n",
    "    optimizer.zero_grad()\n",
    "    # Computes the gradient of current tensor w.r.t. graph leaves\n",
    "    loss.backward()\n",
    "    # Performs a single optimization step\n",
    "    optimizer.step()\n",
    "print(\"Testing the model\")\n",
    "# Create instance for testing data and then performs similar procedure as above\n",
    "test_ds = Dataset(\"test_data.txt\",num_rows=220,skip=0)\n",
    "test_pred = model(test_ds.x_data)\n",
    "maxos = test_pred.max(dim=1)[1]\n",
    "acc_tst = t.sum((maxos==test_ds.y_data))/len(test_ds.y_data)\n",
    "print(\"Loss:\",loss_func(test_pred,test_ds.y_data).item(),\"Accuracy:\",acc_tst.item())\n"
   ]
  },
  {
   "attachments": {},
   "cell_type": "markdown",
   "metadata": {},
   "source": [
    "### $\\underline{\\text{Plotting}} $"
   ]
  },
  {
   "cell_type": "code",
   "execution_count": 73,
   "metadata": {},
   "outputs": [],
   "source": [
    "# Plot accuracy error for a single model, input is the model's accuracy \n",
    "def plot_acc_error(acc_arr,title):\n",
    "    length = len(acc_arr)\n",
    "    fig,ax = plt.subplots(figsize=(7,7))\n",
    "    ax.plot(np.array(range(0,length)),1-np.array(acc_arr),color='darkorange',linewidth=0.6)\n",
    "        \n",
    "    ax.set_title(title,**font,color='aliceblue')\n",
    "    ax.set_ylabel(\"Percentage error\",**font,color='aliceblue')\n",
    "    ax.set_xlabel('Epochs',**font,color='aliceblue')\n",
    "\n",
    "    ax.set_yscale(\"log\")\n",
    "    ax.set_facecolor('dimgray')\n",
    "    fig.set_facecolor('dimgray')\n",
    "\n",
    "    ax.tick_params(axis='y', colors='aliceblue')\n",
    "    ax.tick_params(axis='x', colors='aliceblue')\n",
    "    ax.spines['bottom'].set_color('aliceblue')\n",
    "    ax.spines['left'].set_color('aliceblue')\n",
    "    ax.spines['top'].set_color('dimgray')\n",
    "    ax.spines['right'].set_color('dimgray')\n",
    "\n",
    "    plt.show()"
   ]
  },
  {
   "cell_type": "code",
   "execution_count": 74,
   "metadata": {},
   "outputs": [
    {
     "data": {
      "image/png": "[encoded data removed]",
      "text/plain": [
       "<Figure size 700x700 with 1 Axes>"
      ]
     },
     "metadata": {},
     "output_type": "display_data"
    }
   ],
   "source": [
    "plot_acc_error(np.array(acc_list),\"Percentage Error plot\")"
   ]
  },
  {
   "cell_type": "code",
   "execution_count": null,
   "metadata": {},
   "outputs": [],
   "source": []
  }
 ],
 "metadata": {
  "kernelspec": {
   "display_name": "Python 3",
   "language": "python",
   "name": "python3"
  },
  "language_info": {
   "codemirror_mode": {
    "name": "ipython",
    "version": 3
   },
   "file_extension": ".py",
   "mimetype": "text/x-python",
   "name": "python",
   "nbconvert_exporter": "python",
   "pygments_lexer": "ipython3",
   "version": "3.10.9"
  },
  "orig_nbformat": 4,
  "vscode": {
   "interpreter": {
    "hash": "ce88ac5f7ed904780a2e9ae717995b134dc5bbff78ffc6a177d018fe337ffc04"
   }
  }
 },
 "nbformat": 4,
 "nbformat_minor": 2
}
