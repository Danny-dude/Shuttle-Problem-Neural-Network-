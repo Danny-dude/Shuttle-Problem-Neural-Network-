{
 "cells": [
  {
   "attachments": {},
   "cell_type": "markdown",
   "metadata": {},
   "source": [
    "Dataset and problem statement: \"https://archive.ics.uci.edu/ml/datasets/Statlog+%28Shuttle%29\" <br>\n",
    "Code obtained from: <br>\n",
    "\n",
    "Title: \"Neural Networks from Scratch in Python\" <br>\n",
    "Authors: Harrison Kinsley & Daniel Kukieła <br>\n",
    "Publisher: Harrison Kinsley, 2020"
   ]
  },
  {
   "attachments": {},
   "cell_type": "markdown",
   "metadata": {},
   "source": [
    "# Libraries"
   ]
  },
  {
   "cell_type": "code",
   "execution_count": 2,
   "metadata": {},
   "outputs": [],
   "source": [
    "import numpy as np\n",
    "import matplotlib.pyplot as plt"
   ]
  },
  {
   "attachments": {},
   "cell_type": "markdown",
   "metadata": {},
   "source": [
    "# Plotting Functions"
   ]
  },
  {
   "cell_type": "code",
   "execution_count": 78,
   "metadata": {},
   "outputs": [],
   "source": [
    "def plot_acc_error(arr,title,len=5001):\n",
    "    fig,ax = plt.subplots()\n",
    "\n",
    "    ax.plot(np.array(range(0,len,100))[1:],1-np.array(arr)[1:])\n",
    "    ax.set_title(title)\n",
    "    ax.set_ylabel(\"Percentage error\")\n",
    "    ax.set_xlabel('Epochs')\n",
    "    plt.show()"
   ]
  },
  {
   "attachments": {},
   "cell_type": "markdown",
   "metadata": {},
   "source": [
    "# Fully Connected Layer"
   ]
  },
  {
   "cell_type": "code",
   "execution_count": 3,
   "metadata": {},
   "outputs": [],
   "source": [
    "class Layer_FC: # Dense/fully connected\n",
    "\n",
    "    def __init__(self,num_inputs,num_neurons):\n",
    "        self.weights = 0.01*np.random.randn(num_inputs,num_neurons)\n",
    "        self.biases = np.zeros((1,num_neurons))\n",
    "\n",
    "    def forward(self,inputs):\n",
    "        self.inputs = inputs\n",
    "        self.output = np.dot(inputs,self.weights) + self.biases\n",
    "\n",
    "    def backward(self,dvalues):\n",
    "        # Gradients on parameters\n",
    "        self.dweights = np.dot(self.inputs.T, dvalues)\n",
    "        self.dbiases = np.sum(dvalues,axis=0,keepdims=True)\n",
    "        # Gradient on values\n",
    "        self.dinputs = np.dot(dvalues,self.weights.T)"
   ]
  },
  {
   "attachments": {},
   "cell_type": "markdown",
   "metadata": {},
   "source": [
    "# Activation Functions - Rectilinear and Softmax"
   ]
  },
  {
   "cell_type": "code",
   "execution_count": 4,
   "metadata": {},
   "outputs": [],
   "source": [
    "# Rectilinear activation function\n",
    "class Activation_ReLU:\n",
    "\n",
    "    def forward(self,inputs):\n",
    "        self.inputs = inputs\n",
    "        self.output = np.maximum(0,inputs)\n",
    "\n",
    "    def backward(self,dvalues):\n",
    "        self.dinputs = dvalues.copy()\n",
    "        self.dinputs[self.inputs <= 0] = 0\n",
    "\n",
    "\n",
    "# Softmax activation for classification\n",
    "class Activation_Softmax:\n",
    "\n",
    "    def forward(self,inputs):\n",
    "        # We take the subtraction of the max of the inputs to avoid \"exploding values\" and \"dead neurons\"\n",
    "        exps = np.exp(inputs - np.max(inputs,axis=1,keepdims=True)) \n",
    "        probabilities = exps/np.sum(exps,axis=1,keepdims=True)\n",
    "        self.output = probabilities\n",
    "\n",
    "    def backward(self,dvalues):\n",
    "        # Uninitialised array\n",
    "        self.dinputs = np.empty_like(dvalues)\n",
    "        # Enumerate outputs and gradients\n",
    "        for index,(single_output,single_dvalues) in enumerate(zip(self.output,dvalues)):\n",
    "            # Flatten output array \n",
    "            single_output = single_output.reshape(-1,1)  # coloumn matrix\n",
    "            jacobian = np.diagflat(single_output) - np.dot(single_output,single_output.T)\n",
    "            # Calculate the sample-wise gradient and add to array of sample gradients\n",
    "            self.dinputs[index] = np.dot(jacobian,single_dvalues)"
   ]
  },
  {
   "attachments": {},
   "cell_type": "markdown",
   "metadata": {},
   "source": [
    "# Loss Functions"
   ]
  },
  {
   "cell_type": "code",
   "execution_count": 5,
   "metadata": {},
   "outputs": [],
   "source": [
    "class Loss:\n",
    "    \n",
    "    def calculate(self,output,y):\n",
    "        sample_losses = self.forward(output,y)\n",
    "        data_loss = np.mean(sample_losses)\n",
    "        return data_loss\n",
    "\n",
    "# Inherits Loss\n",
    "class Loss_CategoricalCrossEntropy(Loss): \n",
    "\n",
    "    def forward(self,y_pred,y_true):\n",
    "        samples = len(y_pred)\n",
    "        # CLip to prevent division by zero and clip both sides to drage mean to any value\n",
    "        y_pred_clipped = np.clip(y_pred, 1e-7, 1 - 1e-7)\n",
    "        # if categorical labels\n",
    "        if len(y_true.shape) == 1:\n",
    "            correct_confidences = y_pred_clipped[\n",
    "                range(samples),\n",
    "                y_true\n",
    "            ]\n",
    "        # Mask values - only for one-hot encoded labels\n",
    "        elif len(y_true.shape) == 2:\n",
    "            correct_confidences = np.sum(\n",
    "                y_pred_clipped* y_true,\n",
    "                axis=1\n",
    "            )\n",
    "        # Losses\n",
    "        negative_log_probabs = -np.log(correct_confidences)\n",
    "        return negative_log_probabs\n",
    "    \n",
    "    def backward(self, dvalues, y_true): ### We gonna only use one sample... use integer encoding instead\n",
    "        samples = len(dvalues)\n",
    "        # Number of labels in every sample, we use the first one to count ????\n",
    "        lables = len(dvalues[0])\n",
    "        # If lables are sparse, turn them into one-hot vector??\n",
    "        if len(y_true.shape) == 1:\n",
    "            y_true = np.eye(lables)[y_true]\n",
    "        # Calculate gradient\n",
    "        self.dinputs = -y_true/dvalues\n",
    "        # Normalise gradient\n",
    "        self.dinputs = self.dinputs/samples\n",
    "\n",
    "\n",
    "class Activation_Softmax_Loss_CategoryCrossEntropy():\n",
    "\n",
    "    def __init__(self):\n",
    "        self.activation = Activation_Softmax()\n",
    "        self.loss = Loss_CategoricalCrossEntropy()\n",
    "        \n",
    "    def forward(self,inputs,y_true):\n",
    "        # Output layer's activation function\n",
    "        self.activation.forward(inputs)\n",
    "        self.output = self.activation.output ### ??????????????????\n",
    "        # Calculate and return loss value\n",
    "        return self.loss.calculate(self.output,y_true)\n",
    "    \n",
    "    def backward(self, dvalues, y_true): ### We gonna only use one sample... use integer encoding instead\n",
    "        samples = len(dvalues)\n",
    "        # If lables are one-hot encoded, turn them  into discrete values\n",
    "        if len(y_true.shape) == 2:\n",
    "            y_true = np.argmax(y_true, axis=1)\n",
    "        self.dinputs = dvalues.copy()\n",
    "        # Calculate gradient\n",
    "        self.dinputs[range(samples),y_true] -= 1\n",
    "        # Normalise gradient\n",
    "        self.dinputs = self.dinputs/samples"
   ]
  },
  {
   "attachments": {},
   "cell_type": "markdown",
   "metadata": {},
   "source": [
    "# Minimisation Methods:"
   ]
  },
  {
   "attachments": {},
   "cell_type": "markdown",
   "metadata": {},
   "source": [
    "Regular line-search: <br>\n",
    "$\\bold{x}^{k+1}=\\bold{x}^{k}+s^k \\bold{d}^k$ <br>\n",
    "$s^{k+1}=s^{k}(1+\\alpha k)^{-1}$<br>\n",
    "where $\\bold{x}$ are the domain values (weights and biases), $s$ is the step-size (learning rate), $\\alpha$ is the decay rate and $\\bold{d}$ is the $f'(\\bold{x})$ <br>\n",
    "<br>\n",
    "With momentum: <br>\n",
    "$\\bold{x}^{k+1}=\\bold{x}^{k} + \\bold{p}^k$ <br>\n",
    "$\\bold{p^{k+1}} = \\gamma \\bold{p}^{k} +s^k \\bold{d}^k$ <br>\n",
    "$\\gamma$ is the fraction of previous search direction, with the momentums of the inputs correspond to $\\bold{p}$. Initially, $\\bold{p}^0=\\bold{0}$ <br>"
   ]
  },
  {
   "cell_type": "code",
   "execution_count": 79,
   "metadata": {},
   "outputs": [],
   "source": [
    "# Minimiser using line-search methods\n",
    "# x = x + s*grad(f(x))\n",
    "class Optimizer:\n",
    "    # Learning rate: stepsize = s\n",
    "    # decay: reducing factor of stepsize (decay)\n",
    "\n",
    "    # Call once, before any parameter update\n",
    "    def pre_update_params(self):\n",
    "        # Checks if decay is not zero\n",
    "        if self.decay:\n",
    "            self.current_s = self.current_s*(1/(1 + self.decay * self.iterations))\n",
    "            # curr_lr = curr_lr (1+)\n",
    "    def post_update(self):\n",
    "        self.iterations += 1"
   ]
  },
  {
   "attachments": {},
   "cell_type": "markdown",
   "metadata": {},
   "source": [
    "#### Stochastic Gradient Descent"
   ]
  },
  {
   "cell_type": "code",
   "execution_count": 6,
   "metadata": {},
   "outputs": [],
   "source": [
    "# Inherits 'Optimizer'\n",
    "class SGD(Optimizer):\n",
    "\n",
    "    def __init__(self, s, decay, momentum):\n",
    "        self.s = s\n",
    "        self.curr_s = s\n",
    "        self.decay = decay\n",
    "        self.iterations = 0\n",
    "        self.momentum = momentum\n",
    "\n",
    "    def update_params(self,layer):\n",
    "        # if we decide to select a momentum that is not zero\n",
    "        if self.momentum:\n",
    "            # The update contains a portion of the gradient from preceding steps as our momentum (direction of previous changes) \n",
    "            # and only a portion of the current gradient; together, these portions form the actual change to our parameters\n",
    "    \n",
    "            # If layer does not contain momentum arrays, create them filled with zeros of same shape as layer\n",
    "            if not hasattr(layer,'weight_momentums'):\n",
    "                layer.weight_momentums = np.zeros_like(layer.weights)\n",
    "                layer.bias_momentums = np.zeros_like(layer.biases)\n",
    "            # Build weight update with momentum\n",
    "            weight_update = self.momentum*layer.weight_momentums - self.curr_s*layer.dweights\n",
    "            layer.weight_momentums = weight_update\n",
    "            # Build bias update \n",
    "            bias_update = self.momentum*layer.bias_momentums - self.curr_s*layer.dbiases\n",
    "            layer.bias_momentums = bias_update \n",
    "        # Vanilla SGD, without momentum\n",
    "        else: \n",
    "            weight_update = -self.curr_s*layer.dweights\n",
    "            bias_update = -self.curr_s*layer.dbiases\n",
    "        # Update weights and biases\n",
    "        layer.weights += weight_update\n",
    "        layer.biases += bias_update\n"
   ]
  },
  {
   "attachments": {},
   "cell_type": "markdown",
   "metadata": {},
   "source": [
    "#### AdaGrad"
   ]
  },
  {
   "cell_type": "code",
   "execution_count": 60,
   "metadata": {},
   "outputs": [],
   "source": [
    "class AdaGrad(Optimizer):\n",
    "\n",
    "    def __init__(self, s=2, decay=0, ε=1e-7):\n",
    "        self.s = s\n",
    "        self.curr_s = s\n",
    "        self.decay = decay\n",
    "        self.iterations = 0\n",
    "        self.ε = ε\n",
    "\n",
    "    def update_params(self,layer):   \n",
    "        # If layer does not contain momentum arrays, create them filled with zeros of same shape as layer, same for bias_momentum\n",
    "        if not hasattr(layer,'weight_cache'):\n",
    "            layer.weight_cache = np.zeros_like(layer.weights)\n",
    "            layer.bias_cache = np.zeros_like(layer.biases)\n",
    "        # Update cache with squared current gradients\n",
    "        layer.weight_cache += layer.dweights**2\n",
    "        layer.bias_cache += layer.dbiases**2\n",
    "        # Vanilla SGD param update + normalisation with square root cache\n",
    "        layer.weights += -self.curr_s*layer.dweights/(np.sqrt(layer.weight_cache)+self.ε)\n",
    "        layer.biases += -self.curr_s*layer.dbiases/(np.sqrt(layer.bias_cache)+self.ε)\n",
    "    "
   ]
  },
  {
   "cell_type": "markdown",
   "metadata": {},
   "source": [
    "#### Root Mean Square Propagation "
   ]
  },
  {
   "cell_type": "code",
   "execution_count": 73,
   "metadata": {},
   "outputs": [],
   "source": [
    "class RMSP(Optimizer):\n",
    "\n",
    "    def __init__(self, s=0.001, decay=1e-4, ε=1e-7, ρ=0.9):\n",
    "        self.curr_s = s\n",
    "        self.s = s\n",
    "        self.decay = decay\n",
    "        self.iterations = 0\n",
    "        self.ε = ε \n",
    "        self.ρ = ρ\n",
    "    \n",
    "    def update_params(self,layer):\n",
    "        if not hasattr(layer,'weight_cache'):\n",
    "            layer.weight_cache = np.zeros_like(layer.weights)\n",
    "            layer.bias_cache = np.zeros_like(layer.biases)\n",
    "        layer.weight_cache = self.ρ*layer.weight_cache + (1 - self.ρ)*layer.dweights**2\n",
    "        layer.bias_cache = self.ρ*layer.bias_cache + (1 - self.ρ)*layer.dbiases**2\n",
    "\n",
    "        layer.weights += -self.curr_s*layer.dweights/(np.sqrt(layer.weight_cache) + self.ε)\n",
    "        layer.biases += -self.curr_s*layer.dbiases/(np.sqrt(layer.bias_cache) + self.ε)"
   ]
  },
  {
   "attachments": {},
   "cell_type": "markdown",
   "metadata": {},
   "source": [
    "# Parameters to tinker with"
   ]
  },
  {
   "cell_type": "code",
   "execution_count": 50,
   "metadata": {},
   "outputs": [],
   "source": [
    "# Number of neurons\n",
    "hidden_neurons = 64\n",
    "# SGD parameters\n",
    "learning_rate = 0.02\n",
    "decay = 0 # -----> Convergence is quicker with no decay\n",
    "momentum = 0.2 # ------> Convergence is quicker with smaller fractional value but not too small"
   ]
  },
  {
   "attachments": {},
   "cell_type": "markdown",
   "metadata": {},
   "source": [
    "# Setting up the Model"
   ]
  },
  {
   "cell_type": "code",
   "execution_count": 74,
   "metadata": {},
   "outputs": [],
   "source": [
    "# Open and read file\n",
    "trainingFile = open('shuttle.trn','r')\n",
    "lines = trainingFile.readlines()\n",
    "batch = np.zeros((len(lines),9))\n",
    "classfy = np.zeros(len(lines))\n",
    "\n",
    "# Set up input as a 2d array\n",
    "for i in range(len(lines)):\n",
    "    temp_str = lines[i].split(' ')\n",
    "    classfy[i] = int(temp_str[-1])\n",
    "    for j in range(9):\n",
    "        batch[i,j] = int(temp_str[j])\n",
    "        \n",
    "# Change category counting to start from 0 and convert to int\n",
    "classfy = np.asarray(classfy, dtype = 'int') - 1\n",
    "\n",
    "input_layer = Layer_FC(9,hidden_neurons)\n",
    "activation1 = Activation_ReLU()\n",
    "\n",
    "layer2 = Layer_FC(hidden_neurons,7)\n",
    "loss_activation = Activation_Softmax_Loss_CategoryCrossEntropy()\n",
    "    "
   ]
  },
  {
   "attachments": {},
   "cell_type": "markdown",
   "metadata": {},
   "source": [
    "# Training Model with Stochastic Gradient Descent"
   ]
  },
  {
   "cell_type": "code",
   "execution_count": 52,
   "metadata": {},
   "outputs": [],
   "source": [
    "# Initialise storage arrays\n",
    "SGD_acc = []\n",
    "# Select Optimizer\n",
    "optimizer = SGD(learning_rate,decay,momentum)\n",
    "for epoch in range(5001):\n",
    "    # Forward pass, for activation function too\n",
    "    input_layer.forward(batch)\n",
    "    activation1.forward(input_layer.output)\n",
    "    # Forward pass on second layer, input is output of first layer (the activation output)\n",
    "    layer2.forward(activation1.output)\n",
    "    # Forward pass through activation/loss function \n",
    "    # Takes output of second layer and returns loss\n",
    "    loss = loss_activation.forward(layer2.output,classfy)\n",
    "    # Calculate the accuracy from output of activation2 and targets, along first axis\n",
    "    predictions = np.argmax(loss_activation.output,axis=1)\n",
    "\n",
    "    accuracy = np.mean(predictions==classfy)\n",
    "    if not epoch % 100:\n",
    "        SGD_acc.append(accuracy)\n",
    "        # print(f'epoch:{epoch},'+\n",
    "        #       f'acc:{accuracy},'+\n",
    "        #       f'loss:{loss:.3f},'+\n",
    "        #       f'lr:{optimizer.current_learning_rate}')\n",
    "    # Backward pass\n",
    "    loss_activation.backward(loss_activation.output,classfy)\n",
    "    layer2.backward(loss_activation.dinputs)\n",
    "    activation1.backward(layer2.dinputs)\n",
    "    input_layer.backward(activation1.dinputs)\n",
    "    # Update weights and biases\n",
    "    optimizer.pre_update_params()\n",
    "    optimizer.update_params(input_layer)\n",
    "    optimizer.update_params(layer2)\n",
    "    optimizer.post_update()"
   ]
  },
  {
   "cell_type": "code",
   "execution_count": 69,
   "metadata": {},
   "outputs": [
    {
     "data": {
      "image/png": "[encoded data removed]",
      "text/plain": [
       "<Figure size 640x480 with 1 Axes>"
      ]
     },
     "metadata": {},
     "output_type": "display_data"
    }
   ],
   "source": [
    "fig,ax = plt.subplots()\n",
    "\n",
    "ax.plot(np.array(range(0,5001,100))[1:],1-np.array(SGD_acc)[1:])\n",
    "ax.set_title(\"Stochastic Gradient Descent\")\n",
    "ax.set_yscale('log')\n",
    "ax.set_ylabel(\"Percentage error\")\n",
    "ax.set_xlabel('Epochs')\n",
    "plt.show()"
   ]
  },
  {
   "attachments": {},
   "cell_type": "markdown",
   "metadata": {},
   "source": [
    "# Training Model with AdaGrad "
   ]
  },
  {
   "cell_type": "code",
   "execution_count": 62,
   "metadata": {},
   "outputs": [
    {
     "name": "stdout",
     "output_type": "stream",
     "text": [
      "epoch:0,acc:0.012206896551724139,loss:1.959,lr:2\n",
      "epoch:100,acc:0.9139080459770115,loss:0.326,lr:2\n",
      "epoch:200,acc:0.9740689655172414,loss:0.235,lr:2\n",
      "epoch:300,acc:0.9836551724137931,loss:0.112,lr:2\n",
      "epoch:400,acc:0.992551724137931,loss:0.091,lr:2\n",
      "epoch:500,acc:0.993632183908046,loss:0.063,lr:2\n",
      "epoch:600,acc:0.9948045977011494,loss:0.056,lr:2\n",
      "epoch:700,acc:0.9957241379310345,loss:0.051,lr:2\n",
      "epoch:800,acc:0.9949655172413793,loss:0.048,lr:2\n",
      "epoch:900,acc:0.9964597701149426,loss:0.031,lr:2\n",
      "epoch:1000,acc:0.996,loss:0.036,lr:2\n",
      "epoch:1100,acc:0.996,loss:0.035,lr:2\n",
      "epoch:1200,acc:0.985103448275862,loss:0.039,lr:2\n",
      "epoch:1300,acc:0.984551724137931,loss:0.039,lr:2\n",
      "epoch:1400,acc:0.9969655172413793,loss:0.020,lr:2\n",
      "epoch:1500,acc:0.9961609195402299,loss:0.029,lr:2\n",
      "epoch:1600,acc:0.9968965517241379,loss:0.019,lr:2\n",
      "epoch:1700,acc:0.9953333333333333,loss:0.031,lr:2\n",
      "epoch:1800,acc:0.9975862068965518,loss:0.014,lr:2\n",
      "epoch:1900,acc:0.997264367816092,loss:0.018,lr:2\n",
      "epoch:2000,acc:0.9972183908045977,loss:0.014,lr:2\n",
      "epoch:2100,acc:0.9976781609195402,loss:0.013,lr:2\n",
      "epoch:2200,acc:0.9978850574712643,loss:0.012,lr:2\n",
      "epoch:2300,acc:0.9980229885057471,loss:0.012,lr:2\n",
      "epoch:2400,acc:0.9981379310344828,loss:0.011,lr:2\n",
      "epoch:2500,acc:0.9981609195402299,loss:0.012,lr:2\n",
      "epoch:2600,acc:0.9971724137931034,loss:0.014,lr:2\n",
      "epoch:2700,acc:0.9976091954022989,loss:0.015,lr:2\n",
      "epoch:2800,acc:0.9978620689655172,loss:0.012,lr:2\n",
      "epoch:2900,acc:0.9981149425287357,loss:0.011,lr:2\n",
      "epoch:3000,acc:0.998551724137931,loss:0.010,lr:2\n",
      "epoch:3100,acc:0.9986436781609196,loss:0.009,lr:2\n",
      "epoch:3200,acc:0.9985057471264368,loss:0.009,lr:2\n",
      "epoch:3300,acc:0.9985057471264368,loss:0.008,lr:2\n",
      "epoch:3400,acc:0.9986896551724138,loss:0.007,lr:2\n",
      "epoch:3500,acc:0.9988735632183908,loss:0.005,lr:2\n",
      "epoch:3600,acc:0.9989885057471264,loss:0.006,lr:2\n",
      "epoch:3700,acc:0.9991724137931034,loss:0.006,lr:2\n",
      "epoch:3800,acc:0.9994022988505747,loss:0.005,lr:2\n",
      "epoch:3900,acc:0.9993103448275862,loss:0.005,lr:2\n",
      "epoch:4000,acc:0.999264367816092,loss:0.006,lr:2\n",
      "epoch:4100,acc:0.9994022988505747,loss:0.006,lr:2\n",
      "epoch:4200,acc:0.9994252873563219,loss:0.006,lr:2\n",
      "epoch:4300,acc:0.9991494252873563,loss:0.005,lr:2\n",
      "epoch:4400,acc:0.999264367816092,loss:0.005,lr:2\n",
      "epoch:4500,acc:0.999448275862069,loss:0.004,lr:2\n",
      "epoch:4600,acc:0.9994712643678161,loss:0.004,lr:2\n",
      "epoch:4700,acc:0.9994022988505747,loss:0.005,lr:2\n",
      "epoch:4800,acc:0.9993563218390804,loss:0.004,lr:2\n",
      "epoch:4900,acc:0.9993563218390804,loss:0.004,lr:2\n",
      "epoch:5000,acc:0.9994712643678161,loss:0.004,lr:2\n"
     ]
    }
   ],
   "source": [
    "# Initialise storage arrays\n",
    "AdaGrad_acc = []\n",
    "# Select Optimizer\n",
    "optimizer = AdaGrad()\n",
    "for epoch in range(5001):\n",
    "    # Forward pass, for activation function too\n",
    "    input_layer.forward(batch)\n",
    "    activation1.forward(input_layer.output)\n",
    "    # Forward pass on second layer, input is output of first layer (the activation output)\n",
    "    layer2.forward(activation1.output)\n",
    "    # Forward pass through activation/loss function \n",
    "    # Takes output of second layer and returns loss\n",
    "    loss = loss_activation.forward(layer2.output,classfy)\n",
    "    # Calculate the accuracy from output of activation2 and targets, along first axis\n",
    "    predictions = np.argmax(loss_activation.output,axis=1)\n",
    "\n",
    "    accuracy = np.mean(predictions==classfy)\n",
    "    if not epoch % 100:\n",
    "        AdaGrad_acc.append(accuracy)\n",
    "        print(f'epoch:{epoch},'+\n",
    "              f'acc:{accuracy},'+\n",
    "              f'loss:{loss:.3f},'+\n",
    "              f'lr:{optimizer.current_learning_rate}')\n",
    "    # Backward pass\n",
    "    loss_activation.backward(loss_activation.output,classfy)\n",
    "    layer2.backward(loss_activation.dinputs)\n",
    "    activation1.backward(layer2.dinputs)\n",
    "    input_layer.backward(activation1.dinputs)\n",
    "    # Update weights and biases\n",
    "    optimizer.pre_update_params()\n",
    "    optimizer.update_params(input_layer)\n",
    "    optimizer.update_params(layer2)\n",
    "    optimizer.post_update()"
   ]
  },
  {
   "cell_type": "code",
   "execution_count": 67,
   "metadata": {},
   "outputs": [
    {
     "data": {
      "image/png": "[encoded data removed]",
      "text/plain": [
       "<Figure size 640x480 with 1 Axes>"
      ]
     },
     "metadata": {},
     "output_type": "display_data"
    }
   ],
   "source": [
    "fig,ax = plt.subplots()\n",
    "\n",
    "ax.plot(np.array(range(0,5001,100))[1:],1-np.array(AdaGrad_acc)[1:])\n",
    "ax.set_title(\"AdaGrad\")\n",
    "ax.set_yscale('log')\n",
    "ax.set_ylabel(\"Percentage error\")\n",
    "ax.set_xlabel('Epochs')\n",
    "plt.show()"
   ]
  },
  {
   "attachments": {},
   "cell_type": "markdown",
   "metadata": {},
   "source": [
    "# Training Model with Root Mean Square Propagation"
   ]
  },
  {
   "cell_type": "code",
   "execution_count": 75,
   "metadata": {},
   "outputs": [
    {
     "name": "stdout",
     "output_type": "stream",
     "text": [
      "epoch:0,acc:0.7264367816091954,loss:1.878,lr:0.001\n",
      "epoch:100,acc:0.9285287356321839,loss:0.217,lr:0.0006105675350281858\n",
      "epoch:200,acc:0.9542068965517242,loss:0.140,lr:0.00013849833930748714\n",
      "epoch:300,acc:0.9631954022988506,loss:0.126,lr:1.1785522069691256e-05\n",
      "epoch:400,acc:0.9635402298850575,loss:0.125,lr:3.798226529160479e-07\n",
      "epoch:500,acc:0.9635402298850575,loss:0.125,lr:4.6794578436187545e-09\n"
     ]
    },
    {
     "ename": "KeyboardInterrupt",
     "evalue": "",
     "output_type": "error",
     "traceback": [
      "\u001b[0;31m---------------------------------------------------------------------------\u001b[0m",
      "\u001b[0;31mKeyboardInterrupt\u001b[0m                         Traceback (most recent call last)",
      "Cell \u001b[0;32mIn[75], line 26\u001b[0m\n\u001b[1;32m     24\u001b[0m \u001b[39m# Backward pass\u001b[39;00m\n\u001b[1;32m     25\u001b[0m loss_activation\u001b[39m.\u001b[39mbackward(loss_activation\u001b[39m.\u001b[39moutput,classfy)\n\u001b[0;32m---> 26\u001b[0m layer2\u001b[39m.\u001b[39;49mbackward(loss_activation\u001b[39m.\u001b[39;49mdinputs)\n\u001b[1;32m     27\u001b[0m activation1\u001b[39m.\u001b[39mbackward(layer2\u001b[39m.\u001b[39mdinputs)\n\u001b[1;32m     28\u001b[0m input_layer\u001b[39m.\u001b[39mbackward(activation1\u001b[39m.\u001b[39mdinputs)\n",
      "Cell \u001b[0;32mIn[3], line 16\u001b[0m, in \u001b[0;36mLayer_FC.backward\u001b[0;34m(self, dvalues)\u001b[0m\n\u001b[1;32m     14\u001b[0m \u001b[39mself\u001b[39m\u001b[39m.\u001b[39mdbiases \u001b[39m=\u001b[39m np\u001b[39m.\u001b[39msum(dvalues,axis\u001b[39m=\u001b[39m\u001b[39m0\u001b[39m,keepdims\u001b[39m=\u001b[39m\u001b[39mTrue\u001b[39;00m)\n\u001b[1;32m     15\u001b[0m \u001b[39m# Gradient on values\u001b[39;00m\n\u001b[0;32m---> 16\u001b[0m \u001b[39mself\u001b[39m\u001b[39m.\u001b[39mdinputs \u001b[39m=\u001b[39m np\u001b[39m.\u001b[39;49mdot(dvalues,\u001b[39mself\u001b[39;49m\u001b[39m.\u001b[39;49mweights\u001b[39m.\u001b[39;49mT)\n",
      "File \u001b[0;32m<__array_function__ internals>:180\u001b[0m, in \u001b[0;36mdot\u001b[0;34m(*args, **kwargs)\u001b[0m\n",
      "\u001b[0;31mKeyboardInterrupt\u001b[0m: "
     ]
    }
   ],
   "source": [
    "# Initialise storage arrays\n",
    "RMSP_acc = []\n",
    "# Select Optimizer\n",
    "optimizer = RMSP()\n",
    "for epoch in range(5001):\n",
    "    # Forward pass, for activation function too\n",
    "    input_layer.forward(batch)\n",
    "    activation1.forward(input_layer.output)\n",
    "    # Forward pass on second layer, input is output of first layer (the activation output)\n",
    "    layer2.forward(activation1.output)\n",
    "    # Forward pass through activation/loss function \n",
    "    # Takes output of second layer and returns loss\n",
    "    loss = loss_activation.forward(layer2.output,classfy)\n",
    "    # Calculate the accuracy from output of activation2 and targets, along first axis\n",
    "    predictions = np.argmax(loss_activation.output,axis=1)\n",
    "\n",
    "    accuracy = np.mean(predictions==classfy)\n",
    "    if not epoch % 100:\n",
    "        RMSP_acc.append(accuracy)\n",
    "        print(f'epoch:{epoch},'+\n",
    "              f'acc:{accuracy},'+\n",
    "              f'loss:{loss:.3f},'+\n",
    "              f'lr:{optimizer.current_learning_rate}')\n",
    "    # Backward pass\n",
    "    loss_activation.backward(loss_activation.output,classfy)\n",
    "    layer2.backward(loss_activation.dinputs)\n",
    "    activation1.backward(layer2.dinputs)\n",
    "    input_layer.backward(activation1.dinputs)\n",
    "    # Update weights and biases\n",
    "    optimizer.pre_update_params()\n",
    "    optimizer.update_params(input_layer)\n",
    "    optimizer.update_params(layer2)\n",
    "    optimizer.post_update()"
   ]
  },
  {
   "cell_type": "code",
   "execution_count": null,
   "metadata": {},
   "outputs": [],
   "source": [
    "fig,ax = plt.subplots()\n",
    "\n",
    "ax.plot(np.array(range(0,5001,100))[1:],1-np.array(RMSP_acc)[1:])\n",
    "ax.set_title(\"Stochastic Gradient Descent\")\n",
    "ax.set_ylabel(\"Percentage error\")\n",
    "ax.set_xlabel('Epochs')\n",
    "plt.show()"
   ]
  },
  {
   "attachments": {},
   "cell_type": "markdown",
   "metadata": {},
   "source": [
    "# Testing Model on Unseen data"
   ]
  },
  {
   "cell_type": "code",
   "execution_count": 54,
   "metadata": {},
   "outputs": [
    {
     "name": "stdout",
     "output_type": "stream",
     "text": [
      "validation,acc:0.998,loss:0.009\n"
     ]
    }
   ],
   "source": [
    "# Open and read file\n",
    "test_file = open('shuttle.tst','r')\n",
    "lines_tst = test_file.readlines()\n",
    "batch_tst = np.zeros((len(lines_tst),9))\n",
    "classfy_tst = np.zeros(len(lines_tst))\n",
    "\n",
    "# Set up input as a 2d array\n",
    "for i in range(len(lines_tst)):\n",
    "    temp_str = lines_tst[i].split(' ')\n",
    "    classfy_tst[i] = int(temp_str[-1])\n",
    "    for j in range(9):\n",
    "        batch_tst[i,j] = int(temp_str[j])\n",
    "\n",
    "# Change category counting to start from 0 and convert to int\n",
    "classfy_tst = np.asarray(classfy_tst, dtype = 'int') - 1\n",
    "# Forward pass\n",
    "input_layer.forward(batch_tst)\n",
    "activation1.forward(input_layer.output)\n",
    "layer2.forwardx(activation1.output)\n",
    "# Calculate loss\n",
    "loss = loss_activation.forward(layer2.output,classfy_tst)\n",
    "predictions = np.argmax(loss_activation.output,axis=1)\n",
    "accuracy = np.mean(predictions==classfy_tst)\n",
    "print(f'validation => acc:{accuracy:.3f},loss:{loss:.3f}')\n"
   ]
  },
  {
   "cell_type": "code",
   "execution_count": 27,
   "metadata": {},
   "outputs": [
    {
     "data": {
      "text/plain": [
       "array([   0,  100,  200,  300,  400,  500,  600,  700,  800,  900, 1000,\n",
       "       1100, 1200, 1300, 1400, 1500, 1600, 1700, 1800, 1900, 2000, 2100,\n",
       "       2200, 2300, 2400, 2500, 2600, 2700, 2800, 2900, 3000, 3100, 3200,\n",
       "       3300, 3400, 3500, 3600, 3700, 3800, 3900, 4000, 4100, 4200, 4300,\n",
       "       4400, 4500, 4600, 4700, 4800, 4900, 5000])"
      ]
     },
     "execution_count": 27,
     "metadata": {},
     "output_type": "execute_result"
    }
   ],
   "source": []
  },
  {
   "cell_type": "code",
   "execution_count": null,
   "metadata": {},
   "outputs": [],
   "source": []
  }
 ],
 "metadata": {
  "kernelspec": {
   "display_name": "PyEnviro",
   "language": "python",
   "name": "python3"
  },
  "language_info": {
   "codemirror_mode": {
    "name": "ipython",
    "version": 3
   },
   "file_extension": ".py",
   "mimetype": "text/x-python",
   "name": "python",
   "nbconvert_exporter": "python",
   "pygments_lexer": "ipython3",
   "version": "3.10.9"
  },
  "orig_nbformat": 4,
  "vscode": {
   "interpreter": {
    "hash": "9ab3354a82321b2ad6044469ba7b2eea47f41299af1b80d6b127938adffb245c"
   }
  }
 },
 "nbformat": 4,
 "nbformat_minor": 2
}
