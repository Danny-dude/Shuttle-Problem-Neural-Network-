{
 "cells": [
  {
   "attachments": {},
   "cell_type": "markdown",
   "metadata": {},
   "source": [
    "# $ \\underline{\\text{Libraries}} $"
   ]
  },
  {
   "cell_type": "code",
   "execution_count": 2,
   "metadata": {},
   "outputs": [],
   "source": [
    "import numpy as np\n",
    "import tensorflow as tf\n",
    "from tensorflow.keras import layers\n",
    "import matplotlib.pyplot as plt"
   ]
  },
  {
   "attachments": {},
   "cell_type": "markdown",
   "metadata": {},
   "source": [
    "# $ \\underline{\\text{Import training and testing data}}$"
   ]
  },
  {
   "cell_type": "code",
   "execution_count": 3,
   "metadata": {},
   "outputs": [],
   "source": [
    "# Open and read file\n",
    "trainingFile = open('shuttle.trn','r')\n",
    "lines = trainingFile.readlines()\n",
    "batch = np.zeros((len(lines),9))\n",
    "classfy = np.zeros(len(lines))\n",
    "\n",
    "# Set up input as a 2d array\n",
    "for i in range(len(lines)):\n",
    "    temp_str = lines[i].split(' ')\n",
    "    classfy[i] = int(temp_str[-1])\n",
    "    for j in range(9):\n",
    "        batch[i,j] = int(temp_str[j])\n",
    "        \n",
    "# Change category counting to start from 0 and convert to int\n",
    "classfy = np.asarray(classfy, dtype = 'int') - 1\n",
    "\n",
    "# Open and read file\n",
    "test_file = open('shuttle.tst','r')\n",
    "lines_tst = test_file.readlines()\n",
    "batch_tst = np.zeros((len(lines_tst),9))\n",
    "classfy_tst = np.zeros(len(lines_tst))\n",
    "\n",
    "# Set up input as a 2d array\n",
    "for i in range(len(lines_tst)):\n",
    "    temp_str = lines_tst[i].split(' ')\n",
    "    classfy_tst[i] = int(temp_str[-1])\n",
    "    for j in range(9):\n",
    "        batch_tst[i,j] = int(temp_str[j])\n",
    "\n",
    "# Change category counting to start from 0 and convert to int\n",
    "classfy_tst = np.asarray(classfy_tst, dtype = 'int') - 1"
   ]
  },
  {
   "attachments": {},
   "cell_type": "markdown",
   "metadata": {},
   "source": [
    "# $ \\underline{\\text{Set up the model}}    $"
   ]
  },
  {
   "cell_type": "code",
   "execution_count": 4,
   "metadata": {},
   "outputs": [
    {
     "name": "stdout",
     "output_type": "stream",
     "text": [
      "Epoch 1/10\n",
      "1360/1360 [==============================] - 1s 341us/step - loss: 2.1719 - accuracy: 0.9052\n",
      "Epoch 2/10\n",
      "1360/1360 [==============================] - 0s 329us/step - loss: 0.4668 - accuracy: 0.9767\n",
      "Epoch 3/10\n",
      "1360/1360 [==============================] - 0s 330us/step - loss: 0.3026 - accuracy: 0.9844\n",
      "Epoch 4/10\n",
      "1360/1360 [==============================] - 0s 328us/step - loss: 0.2177 - accuracy: 0.9874\n",
      "Epoch 5/10\n",
      "1360/1360 [==============================] - 0s 328us/step - loss: 0.1530 - accuracy: 0.9917\n",
      "Epoch 6/10\n",
      "1360/1360 [==============================] - 0s 336us/step - loss: 0.1273 - accuracy: 0.9929\n",
      "Epoch 7/10\n",
      "1360/1360 [==============================] - 0s 329us/step - loss: 0.1113 - accuracy: 0.9948\n",
      "Epoch 8/10\n",
      "1360/1360 [==============================] - 0s 331us/step - loss: 0.0923 - accuracy: 0.9954\n",
      "Epoch 9/10\n",
      "1360/1360 [==============================] - 0s 332us/step - loss: 0.0914 - accuracy: 0.9961\n",
      "Epoch 10/10\n",
      "1360/1360 [==============================] - 0s 332us/step - loss: 0.0714 - accuracy: 0.9968\n"
     ]
    },
    {
     "data": {
      "text/plain": [
       "<keras.callbacks.History at 0x159922700>"
      ]
     },
     "execution_count": 4,
     "metadata": {},
     "output_type": "execute_result"
    }
   ],
   "source": [
    "# Define model architecture\n",
    "model = tf.keras.Sequential([\n",
    "    layers.Dense(13,activation='relu'),\n",
    "    layers.Dense(7)\n",
    "])\n",
    "# Compile model: loss function is Sparse Categorical Cross entropy, Optimizer is Adam\n",
    "model.compile(loss=tf.keras.losses.SparseCategoricalCrossentropy(from_logits=True),optimizer=tf.keras.optimizers.Adam(),metrics=['accuracy'])\n",
    "model.fit(batch,classfy,epochs=10)"
   ]
  },
  {
   "cell_type": "code",
   "execution_count": 5,
   "metadata": {},
   "outputs": [
    {
     "name": "stdout",
     "output_type": "stream",
     "text": [
      "454/454 - 0s - loss: 0.1125 - accuracy: 0.9970 - 190ms/epoch - 419us/step\n",
      "0.9969655275344849\n"
     ]
    }
   ],
   "source": [
    "test_loss, test_acc = model.evaluate(batch_tst,  classfy_tst, verbose=2)\n",
    "print(test_acc)"
   ]
  },
  {
   "cell_type": "code",
   "execution_count": null,
   "metadata": {},
   "outputs": [],
   "source": []
  }
 ],
 "metadata": {
  "kernelspec": {
   "display_name": "PyEnviro",
   "language": "python",
   "name": "python3"
  },
  "language_info": {
   "codemirror_mode": {
    "name": "ipython",
    "version": 3
   },
   "file_extension": ".py",
   "mimetype": "text/x-python",
   "name": "python",
   "nbconvert_exporter": "python",
   "pygments_lexer": "ipython3",
   "version": "3.8.16"
  },
  "orig_nbformat": 4
 },
 "nbformat": 4,
 "nbformat_minor": 2
}
